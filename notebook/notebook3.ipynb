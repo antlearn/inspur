{
 "cells": [
  {
   "cell_type": "code",
   "execution_count": 1,
   "metadata": {
    "collapsed": false
   },
   "outputs": [],
   "source": [
    "import os\n",
    "import sys\n",
    "import numpy as np\n",
    "import pickle\n",
    "import multiprocessing\n",
    "from gensim.models import Word2Vec\n",
    "from gensim.models.word2vec import LineSentence\n",
    "import pandas as pd\n",
    "\n"
   ]
  },
  {
   "cell_type": "code",
   "execution_count": 2,
   "metadata": {
    "collapsed": true
   },
   "outputs": [],
   "source": [
    "import pandas as pd\n",
    "import jieba"
   ]
  },
  {
   "cell_type": "code",
   "execution_count": 15,
   "metadata": {
    "collapsed": false,
    "scrolled": false
   },
   "outputs": [],
   "source": [
    "data = pd.read_csv('../data/training-inspur.csv',names=['id','review','label','a'])[1:]"
   ]
  },
  {
   "cell_type": "code",
   "execution_count": 17,
   "metadata": {
    "collapsed": false
   },
   "outputs": [
    {
     "data": {
      "text/plain": [
       "(20000, 4)"
      ]
     },
     "execution_count": 17,
     "metadata": {},
     "output_type": "execute_result"
    }
   ],
   "source": [
    "data.shape"
   ]
  },
  {
   "cell_type": "code",
   "execution_count": 16,
   "metadata": {
    "collapsed": false,
    "scrolled": true
   },
   "outputs": [
    {
     "data": {
      "text/html": [
       "<div>\n",
       "<table border=\"1\" class=\"dataframe\">\n",
       "  <thead>\n",
       "    <tr style=\"text-align: right;\">\n",
       "      <th></th>\n",
       "      <th>id</th>\n",
       "      <th>review</th>\n",
       "      <th>label</th>\n",
       "      <th>a</th>\n",
       "    </tr>\n",
       "  </thead>\n",
       "  <tbody>\n",
       "    <tr>\n",
       "      <th>1</th>\n",
       "      <td>1080003</td>\n",
       "      <td>普通公园一个只是多了几个泉而已，人不多，适合老人孩子闲逛，买票的话还是贵了，人家说6.30之...</td>\n",
       "      <td>1</td>\n",
       "      <td>NaN</td>\n",
       "    </tr>\n",
       "    <tr>\n",
       "      <th>2</th>\n",
       "      <td>1080004</td>\n",
       "      <td>跟儿子在里面玩了一天，非常好！跟儿子在里面玩了一天，非常好！真的很不错哦，有空还要去</td>\n",
       "      <td>1</td>\n",
       "      <td>NaN</td>\n",
       "    </tr>\n",
       "    <tr>\n",
       "      <th>3</th>\n",
       "      <td>1080005</td>\n",
       "      <td>这已经是第五次来这里玩了。每次孩子都很喜欢，不愿意从水里出来。有机会还会再来。还有比我更忠诚...</td>\n",
       "      <td>1</td>\n",
       "      <td>NaN</td>\n",
       "    </tr>\n",
       "    <tr>\n",
       "      <th>4</th>\n",
       "      <td>1080006</td>\n",
       "      <td>当天在携程上定的票，打温泉度假村咨询电话和携程客服都说次日生效，但到酒店后，票能用。请客服人...</td>\n",
       "      <td>1</td>\n",
       "      <td>NaN</td>\n",
       "    </tr>\n",
       "    <tr>\n",
       "      <th>5</th>\n",
       "      <td>1080007</td>\n",
       "      <td>烟台历史的一部分，非常值得推荐去看看！海边景色也很漂亮！</td>\n",
       "      <td>1</td>\n",
       "      <td>NaN</td>\n",
       "    </tr>\n",
       "  </tbody>\n",
       "</table>\n",
       "</div>"
      ],
      "text/plain": [
       "        id                                             review label   a\n",
       "1  1080003  普通公园一个只是多了几个泉而已，人不多，适合老人孩子闲逛，买票的话还是贵了，人家说6.30之...     1 NaN\n",
       "2  1080004         跟儿子在里面玩了一天，非常好！跟儿子在里面玩了一天，非常好！真的很不错哦，有空还要去     1 NaN\n",
       "3  1080005  这已经是第五次来这里玩了。每次孩子都很喜欢，不愿意从水里出来。有机会还会再来。还有比我更忠诚...     1 NaN\n",
       "4  1080006  当天在携程上定的票，打温泉度假村咨询电话和携程客服都说次日生效，但到酒店后，票能用。请客服人...     1 NaN\n",
       "5  1080007                       烟台历史的一部分，非常值得推荐去看看！海边景色也很漂亮！     1 NaN"
      ]
     },
     "execution_count": 16,
     "metadata": {},
     "output_type": "execute_result"
    }
   ],
   "source": [
    "data.head()"
   ]
  },
  {
   "cell_type": "code",
   "execution_count": 6,
   "metadata": {
    "collapsed": false
   },
   "outputs": [],
   "source": [
    "data[:100][['id','review']].to_csv('test.csv',index=False)"
   ]
  },
  {
   "cell_type": "code",
   "execution_count": null,
   "metadata": {
    "collapsed": true
   },
   "outputs": [],
   "source": []
  },
  {
   "cell_type": "code",
   "execution_count": null,
   "metadata": {
    "collapsed": true
   },
   "outputs": [],
   "source": []
  },
  {
   "cell_type": "code",
   "execution_count": 25,
   "metadata": {
    "collapsed": false,
    "scrolled": true
   },
   "outputs": [
    {
     "data": {
      "text/html": [
       "<div>\n",
       "<table border=\"1\" class=\"dataframe\">\n",
       "  <thead>\n",
       "    <tr style=\"text-align: right;\">\n",
       "      <th></th>\n",
       "      <th>id</th>\n",
       "      <th>review</th>\n",
       "      <th>label</th>\n",
       "    </tr>\n",
       "  </thead>\n",
       "  <tbody>\n",
       "    <tr>\n",
       "      <th>0</th>\n",
       "      <td>1080003</td>\n",
       "      <td>普通公园一个只是多了几个泉而已，人不多，适合老人孩子闲逛，买票的话还是贵了，人家说6.30之...</td>\n",
       "      <td>1</td>\n",
       "    </tr>\n",
       "    <tr>\n",
       "      <th>1</th>\n",
       "      <td>1080004</td>\n",
       "      <td>跟儿子在里面玩了一天，非常好！跟儿子在里面玩了一天，非常好！真的很不错哦，有空还要去</td>\n",
       "      <td>1</td>\n",
       "    </tr>\n",
       "    <tr>\n",
       "      <th>2</th>\n",
       "      <td>1080005</td>\n",
       "      <td>这已经是第五次来这里玩了。每次孩子都很喜欢，不愿意从水里出来。有机会还会再来。还有比我更忠诚...</td>\n",
       "      <td>1</td>\n",
       "    </tr>\n",
       "    <tr>\n",
       "      <th>3</th>\n",
       "      <td>1080006</td>\n",
       "      <td>当天在携程上定的票，打温泉度假村咨询电话和携程客服都说次日生效，但到酒店后，票能用。请客服人...</td>\n",
       "      <td>1</td>\n",
       "    </tr>\n",
       "    <tr>\n",
       "      <th>4</th>\n",
       "      <td>1080007</td>\n",
       "      <td>烟台历史的一部分，非常值得推荐去看看！海边景色也很漂亮！</td>\n",
       "      <td>1</td>\n",
       "    </tr>\n",
       "    <tr>\n",
       "      <th>5</th>\n",
       "      <td>1080008</td>\n",
       "      <td>周末看看动物亲近亲近大自然挺好的，媳妇儿还跟猴子拍照，猴子满身爬，挺好玩，如果动物再多点就好...</td>\n",
       "      <td>1</td>\n",
       "    </tr>\n",
       "    <tr>\n",
       "      <th>6</th>\n",
       "      <td>1080009</td>\n",
       "      <td>五四广场青岛旅游景点必打卡又一地点，标志性红包建筑雕塑矗立在市政府对面亦是海边，还是有点意思...</td>\n",
       "      <td>1</td>\n",
       "    </tr>\n",
       "    <tr>\n",
       "      <th>7</th>\n",
       "      <td>1080010</td>\n",
       "      <td>五四广场坐落在山东省青岛市市南区，在海边，那个红红的火炬就是五四广场的标志。广场上有大片绿地...</td>\n",
       "      <td>1</td>\n",
       "    </tr>\n",
       "    <tr>\n",
       "      <th>8</th>\n",
       "      <td>1080011</td>\n",
       "      <td>环境好，景色美，值得游览，感觉很好</td>\n",
       "      <td>1</td>\n",
       "    </tr>\n",
       "    <tr>\n",
       "      <th>9</th>\n",
       "      <td>1080012</td>\n",
       "      <td>青岛市中心广场，纪念五四运动而命名，风景独特</td>\n",
       "      <td>1</td>\n",
       "    </tr>\n",
       "    <tr>\n",
       "      <th>10</th>\n",
       "      <td>1080013</td>\n",
       "      <td>岱庙历史已经达千年以上，岱庙是古代皇帝来泰安的行宫，历朝历代留下的碑刻现在已经是国宝了，李斯...</td>\n",
       "      <td>1</td>\n",
       "    </tr>\n",
       "    <tr>\n",
       "      <th>11</th>\n",
       "      <td>1080014</td>\n",
       "      <td>很大的一个庙，网上订票很方便！</td>\n",
       "      <td>1</td>\n",
       "    </tr>\n",
       "    <tr>\n",
       "      <th>12</th>\n",
       "      <td>1080015</td>\n",
       "      <td>渔港建设的比较好，停车位充足，海鲜品种丰富。积米崖的海鲜集市时间不固定，根据潮汐变化，每天渔...</td>\n",
       "      <td>1</td>\n",
       "    </tr>\n",
       "    <tr>\n",
       "      <th>13</th>\n",
       "      <td>1080016</td>\n",
       "      <td>该景点绝对是此生必去景区之一，推荐大家都去玩玩。非常适合全家出动游玩。信号山的人不多，登顶可...</td>\n",
       "      <td>1</td>\n",
       "    </tr>\n",
       "    <tr>\n",
       "      <th>14</th>\n",
       "      <td>1080017</td>\n",
       "      <td>交通便利物美价廉快来快来交通便利物美价廉快来快来交通便利物美价廉快来快来交通便利物美价廉快来...</td>\n",
       "      <td>1</td>\n",
       "    </tr>\n",
       "    <tr>\n",
       "      <th>15</th>\n",
       "      <td>1080018</td>\n",
       "      <td>海鲜多，新鲜，自己买自己做味道不错的！</td>\n",
       "      <td>1</td>\n",
       "    </tr>\n",
       "    <tr>\n",
       "      <th>16</th>\n",
       "      <td>1080019</td>\n",
       "      <td>螃蟹，海蛎子很新鲜看看来购买，公交方便有停车场，也有干海货过年送礼到积米崖来吧！</td>\n",
       "      <td>1</td>\n",
       "    </tr>\n",
       "    <tr>\n",
       "      <th>17</th>\n",
       "      <td>1080020</td>\n",
       "      <td>海鲜品种多价格合理新鲜，交通便利有个大停车场快来选购吧。</td>\n",
       "      <td>1</td>\n",
       "    </tr>\n",
       "    <tr>\n",
       "      <th>18</th>\n",
       "      <td>1080021</td>\n",
       "      <td>10月6号出行，一家4人，两个孩子，给孩子增加科普知识。不虚此行，然后游蒙山。</td>\n",
       "      <td>1</td>\n",
       "    </tr>\n",
       "    <tr>\n",
       "      <th>19</th>\n",
       "      <td>1080022</td>\n",
       "      <td>增加了自然知识，和地球的动植物进化过程了解，孩子看的很认真。是不错的假日科普旅行</td>\n",
       "      <td>1</td>\n",
       "    </tr>\n",
       "    <tr>\n",
       "      <th>20</th>\n",
       "      <td>1080023</td>\n",
       "      <td>博物馆很大，收藏品种很多，值得一看，推荐哦</td>\n",
       "      <td>1</td>\n",
       "    </tr>\n",
       "    <tr>\n",
       "      <th>21</th>\n",
       "      <td>1080024</td>\n",
       "      <td>下雨天人少，不用排队，挺好。建筑很童话适合拍照</td>\n",
       "      <td>1</td>\n",
       "    </tr>\n",
       "    <tr>\n",
       "      <th>22</th>\n",
       "      <td>1080025</td>\n",
       "      <td>玩的非常开心，体验高科技非常惊喜，值得再次游玩</td>\n",
       "      <td>1</td>\n",
       "    </tr>\n",
       "    <tr>\n",
       "      <th>23</th>\n",
       "      <td>1080026</td>\n",
       "      <td>家乡的产业支持一下，最近几年建的还不错，野人谷民俗村表演都很多，很适合一家老小出行</td>\n",
       "      <td>1</td>\n",
       "    </tr>\n",
       "    <tr>\n",
       "      <th>24</th>\n",
       "      <td>1080027</td>\n",
       "      <td>虽然路途有點远但是过去赶到以后发觉真心太不赖，各种理疗，各种温泉，因为时间问题没有玩够就走了...</td>\n",
       "      <td>1</td>\n",
       "    </tr>\n",
       "    <tr>\n",
       "      <th>25</th>\n",
       "      <td>1080028</td>\n",
       "      <td>世界上最大的宋代山寨水寨，气势雄伟，蔚为壮观，水寨、吊桥，山寨、忠义堂构成</td>\n",
       "      <td>1</td>\n",
       "    </tr>\n",
       "    <tr>\n",
       "      <th>26</th>\n",
       "      <td>1080029</td>\n",
       "      <td>这里的风景真的不错，就是门票贵了点，但是总体来讲性价比还是不错的。可以看见海边。</td>\n",
       "      <td>1</td>\n",
       "    </tr>\n",
       "    <tr>\n",
       "      <th>27</th>\n",
       "      <td>1080030</td>\n",
       "      <td>很好的一次旅行 就是人有点多 总体来说很好</td>\n",
       "      <td>1</td>\n",
       "    </tr>\n",
       "    <tr>\n",
       "      <th>28</th>\n",
       "      <td>1080031</td>\n",
       "      <td>不错的，带孩子来玩，孩子很高兴。。。。。。。</td>\n",
       "      <td>1</td>\n",
       "    </tr>\n",
       "    <tr>\n",
       "      <th>29</th>\n",
       "      <td>1080032</td>\n",
       "      <td>在小鱼温泉中泡得很舒服，孩子玩得很开心，下次还会再去。</td>\n",
       "      <td>1</td>\n",
       "    </tr>\n",
       "    <tr>\n",
       "      <th>...</th>\n",
       "      <td>...</td>\n",
       "      <td>...</td>\n",
       "      <td>...</td>\n",
       "    </tr>\n",
       "    <tr>\n",
       "      <th>19970</th>\n",
       "      <td>1099973</td>\n",
       "      <td>大马戏和水上乐园检票时告知六月1.5米以下儿童免费，结果我在介绍里完全没看到，害我多花冤枉钱。</td>\n",
       "      <td>3</td>\n",
       "    </tr>\n",
       "    <tr>\n",
       "      <th>19971</th>\n",
       "      <td>1099974</td>\n",
       "      <td>换票等了一个小时 人超多 而且不排队 被狠狠挤了一下 还有好多人被挤伤了 最后特警来了才解决...</td>\n",
       "      <td>3</td>\n",
       "    </tr>\n",
       "    <tr>\n",
       "      <th>19972</th>\n",
       "      <td>1099975</td>\n",
       "      <td>不满意。太黑，服务太差。一般吧</td>\n",
       "      <td>3</td>\n",
       "    </tr>\n",
       "    <tr>\n",
       "      <th>19973</th>\n",
       "      <td>1099976</td>\n",
       "      <td>奇怪这张订单怎么来的？根本没有预定这张票。管理好混乱</td>\n",
       "      <td>3</td>\n",
       "    </tr>\n",
       "    <tr>\n",
       "      <th>19974</th>\n",
       "      <td>1099977</td>\n",
       "      <td>明明可以在7号窗口取票，可排到队，工作人员像不认识字不理解意思，告诉我不能在她那取票，要到另...</td>\n",
       "      <td>3</td>\n",
       "    </tr>\n",
       "    <tr>\n",
       "      <th>19975</th>\n",
       "      <td>1099978</td>\n",
       "      <td>人太多了，2小时排个激流湧进，可能因为七夕特价。</td>\n",
       "      <td>3</td>\n",
       "    </tr>\n",
       "    <tr>\n",
       "      <th>19976</th>\n",
       "      <td>1099979</td>\n",
       "      <td>没什么好逗的，就是寺庙，信佛的去去不错。不建议去，取票处那里租借的协力车进不去景点。</td>\n",
       "      <td>3</td>\n",
       "    </tr>\n",
       "    <tr>\n",
       "      <th>19977</th>\n",
       "      <td>1099980</td>\n",
       "      <td>太垃圾了，不是一般的失望！！！！！！走了那么远才看到售票处，而且不做观光车的话，估计走一天长...</td>\n",
       "      <td>3</td>\n",
       "    </tr>\n",
       "    <tr>\n",
       "      <th>19978</th>\n",
       "      <td>1099981</td>\n",
       "      <td>这两个票地方差十万八千里，太差啦</td>\n",
       "      <td>3</td>\n",
       "    </tr>\n",
       "    <tr>\n",
       "      <th>19979</th>\n",
       "      <td>1099982</td>\n",
       "      <td>环境差条件差服务员素质差 只有巨浪还凑合 不会再去</td>\n",
       "      <td>3</td>\n",
       "    </tr>\n",
       "    <tr>\n",
       "      <th>19980</th>\n",
       "      <td>1099983</td>\n",
       "      <td>服务员说。你们下次都别来了，太不好了，挨个旅客告诉，还说谁家更衣室没有地热，柜子都不好使，淋...</td>\n",
       "      <td>3</td>\n",
       "    </tr>\n",
       "    <tr>\n",
       "      <th>19981</th>\n",
       "      <td>1099984</td>\n",
       "      <td>!我订的琅玡山门票</td>\n",
       "      <td>3</td>\n",
       "    </tr>\n",
       "    <tr>\n",
       "      <th>19982</th>\n",
       "      <td>1099985</td>\n",
       "      <td>其实买得比原价贵，导游也很垃圾</td>\n",
       "      <td>3</td>\n",
       "    </tr>\n",
       "    <tr>\n",
       "      <th>19983</th>\n",
       "      <td>1099986</td>\n",
       "      <td>第一次使用途牛就给我一次狠狠的教训，当时票买错了，我和途牛，旅游社，景区都一一联系，一个推一...</td>\n",
       "      <td>3</td>\n",
       "    </tr>\n",
       "    <tr>\n",
       "      <th>19984</th>\n",
       "      <td>1099987</td>\n",
       "      <td>没有优惠 取票立等可取，省了排队 景区内东西贵得要死</td>\n",
       "      <td>3</td>\n",
       "    </tr>\n",
       "    <tr>\n",
       "      <th>19985</th>\n",
       "      <td>1099988</td>\n",
       "      <td>管理混乱,入园排队,拥挤非常危险,差点就受伤.....非常恐怖, 绝对不会再参加此类活动....</td>\n",
       "      <td>3</td>\n",
       "    </tr>\n",
       "    <tr>\n",
       "      <th>19986</th>\n",
       "      <td>1099989</td>\n",
       "      <td>天津方特实在没有宣传的那么牛逼，太让人失望了！9点开园，进去很多大型项目还在检修中没有开放，...</td>\n",
       "      <td>3</td>\n",
       "    </tr>\n",
       "    <tr>\n",
       "      <th>19987</th>\n",
       "      <td>1099990</td>\n",
       "      <td>没显示到底是什么票，到了景点说是只有老人，小孩可以使用，一大一小去的，只换了一张小孩票，大人...</td>\n",
       "      <td>3</td>\n",
       "    </tr>\n",
       "    <tr>\n",
       "      <th>19988</th>\n",
       "      <td>1099991</td>\n",
       "      <td>服务态度恶劣，台风来了也没人来救援</td>\n",
       "      <td>3</td>\n",
       "    </tr>\n",
       "    <tr>\n",
       "      <th>19989</th>\n",
       "      <td>1099992</td>\n",
       "      <td>直接刷身份证，很方便，不用排队</td>\n",
       "      <td>3</td>\n",
       "    </tr>\n",
       "    <tr>\n",
       "      <th>19990</th>\n",
       "      <td>1099993</td>\n",
       "      <td>景区接待人员态度恶劣，说不清楚在哪里，还牢骚一堆。不建议买这家的，出门在外的惹闲气。糟心</td>\n",
       "      <td>3</td>\n",
       "    </tr>\n",
       "    <tr>\n",
       "      <th>19991</th>\n",
       "      <td>1099994</td>\n",
       "      <td>21号游玩，因为预订后一直没收到确认订单，20晚上我又打电话给客服说没收到出行订单，客服说会...</td>\n",
       "      <td>3</td>\n",
       "    </tr>\n",
       "    <tr>\n",
       "      <th>19992</th>\n",
       "      <td>1099995</td>\n",
       "      <td>导游帮我们拿到票后不给票，让加钱！不加钱不让上船！差评！最后我们4个人加了100块！</td>\n",
       "      <td>3</td>\n",
       "    </tr>\n",
       "    <tr>\n",
       "      <th>19993</th>\n",
       "      <td>1099996</td>\n",
       "      <td>,很好。</td>\n",
       "      <td>3</td>\n",
       "    </tr>\n",
       "    <tr>\n",
       "      <th>19994</th>\n",
       "      <td>1099997</td>\n",
       "      <td>票价优惠不太大，景区也一般</td>\n",
       "      <td>3</td>\n",
       "    </tr>\n",
       "    <tr>\n",
       "      <th>19995</th>\n",
       "      <td>1099998</td>\n",
       "      <td>首先说明一下预订的票根本就没有取成，原因是景点告知途牛与其协议4月份就过期了，既然过期了途牛...</td>\n",
       "      <td>3</td>\n",
       "    </tr>\n",
       "    <tr>\n",
       "      <th>19996</th>\n",
       "      <td>1099999</td>\n",
       "      <td>途牛发的订票信息居然是错的，现场取票来回耽误了近10多分钟，幸亏人不多，人多要耽误一小时以上了</td>\n",
       "      <td>3</td>\n",
       "    </tr>\n",
       "    <tr>\n",
       "      <th>19997</th>\n",
       "      <td>1100000</td>\n",
       "      <td>很失望，5月1号中午定的票，未收到订单识别码，到第二天早上到景区门口了，也没收到，这倒也没什...</td>\n",
       "      <td>3</td>\n",
       "    </tr>\n",
       "    <tr>\n",
       "      <th>19998</th>\n",
       "      <td>1100001</td>\n",
       "      <td>一点也不好。景区有说学生票拿学生证免费的。途牛里没提示。。去了景区学生证免费进去了。打电话叫...</td>\n",
       "      <td>3</td>\n",
       "    </tr>\n",
       "    <tr>\n",
       "      <th>19999</th>\n",
       "      <td>1100002</td>\n",
       "      <td>没什么意思，就只有个石像</td>\n",
       "      <td>3</td>\n",
       "    </tr>\n",
       "  </tbody>\n",
       "</table>\n",
       "<p>20000 rows × 3 columns</p>\n",
       "</div>"
      ],
      "text/plain": [
       "            id                                             review  label\n",
       "0      1080003  普通公园一个只是多了几个泉而已，人不多，适合老人孩子闲逛，买票的话还是贵了，人家说6.30之...      1\n",
       "1      1080004         跟儿子在里面玩了一天，非常好！跟儿子在里面玩了一天，非常好！真的很不错哦，有空还要去      1\n",
       "2      1080005  这已经是第五次来这里玩了。每次孩子都很喜欢，不愿意从水里出来。有机会还会再来。还有比我更忠诚...      1\n",
       "3      1080006  当天在携程上定的票，打温泉度假村咨询电话和携程客服都说次日生效，但到酒店后，票能用。请客服人...      1\n",
       "4      1080007                       烟台历史的一部分，非常值得推荐去看看！海边景色也很漂亮！      1\n",
       "5      1080008  周末看看动物亲近亲近大自然挺好的，媳妇儿还跟猴子拍照，猴子满身爬，挺好玩，如果动物再多点就好...      1\n",
       "6      1080009  五四广场青岛旅游景点必打卡又一地点，标志性红包建筑雕塑矗立在市政府对面亦是海边，还是有点意思...      1\n",
       "7      1080010  五四广场坐落在山东省青岛市市南区，在海边，那个红红的火炬就是五四广场的标志。广场上有大片绿地...      1\n",
       "8      1080011                                  环境好，景色美，值得游览，感觉很好      1\n",
       "9      1080012                             青岛市中心广场，纪念五四运动而命名，风景独特      1\n",
       "10     1080013  岱庙历史已经达千年以上，岱庙是古代皇帝来泰安的行宫，历朝历代留下的碑刻现在已经是国宝了，李斯...      1\n",
       "11     1080014                                    很大的一个庙，网上订票很方便！      1\n",
       "12     1080015  渔港建设的比较好，停车位充足，海鲜品种丰富。积米崖的海鲜集市时间不固定，根据潮汐变化，每天渔...      1\n",
       "13     1080016  该景点绝对是此生必去景区之一，推荐大家都去玩玩。非常适合全家出动游玩。信号山的人不多，登顶可...      1\n",
       "14     1080017  交通便利物美价廉快来快来交通便利物美价廉快来快来交通便利物美价廉快来快来交通便利物美价廉快来...      1\n",
       "15     1080018                                海鲜多，新鲜，自己买自己做味道不错的！      1\n",
       "16     1080019           螃蟹，海蛎子很新鲜看看来购买，公交方便有停车场，也有干海货过年送礼到积米崖来吧！      1\n",
       "17     1080020                       海鲜品种多价格合理新鲜，交通便利有个大停车场快来选购吧。      1\n",
       "18     1080021            10月6号出行，一家4人，两个孩子，给孩子增加科普知识。不虚此行，然后游蒙山。      1\n",
       "19     1080022           增加了自然知识，和地球的动植物进化过程了解，孩子看的很认真。是不错的假日科普旅行      1\n",
       "20     1080023                              博物馆很大，收藏品种很多，值得一看，推荐哦      1\n",
       "21     1080024                            下雨天人少，不用排队，挺好。建筑很童话适合拍照      1\n",
       "22     1080025                            玩的非常开心，体验高科技非常惊喜，值得再次游玩      1\n",
       "23     1080026          家乡的产业支持一下，最近几年建的还不错，野人谷民俗村表演都很多，很适合一家老小出行      1\n",
       "24     1080027  虽然路途有點远但是过去赶到以后发觉真心太不赖，各种理疗，各种温泉，因为时间问题没有玩够就走了...      1\n",
       "25     1080028              世界上最大的宋代山寨水寨，气势雄伟，蔚为壮观，水寨、吊桥，山寨、忠义堂构成      1\n",
       "26     1080029           这里的风景真的不错，就是门票贵了点，但是总体来讲性价比还是不错的。可以看见海边。      1\n",
       "27     1080030                              很好的一次旅行 就是人有点多 总体来说很好      1\n",
       "28     1080031                             不错的，带孩子来玩，孩子很高兴。。。。。。。      1\n",
       "29     1080032                        在小鱼温泉中泡得很舒服，孩子玩得很开心，下次还会再去。      1\n",
       "...        ...                                                ...    ...\n",
       "19970  1099973    大马戏和水上乐园检票时告知六月1.5米以下儿童免费，结果我在介绍里完全没看到，害我多花冤枉钱。      3\n",
       "19971  1099974  换票等了一个小时 人超多 而且不排队 被狠狠挤了一下 还有好多人被挤伤了 最后特警来了才解决...      3\n",
       "19972  1099975                                    不满意。太黑，服务太差。一般吧      3\n",
       "19973  1099976                         奇怪这张订单怎么来的？根本没有预定这张票。管理好混乱      3\n",
       "19974  1099977  明明可以在7号窗口取票，可排到队，工作人员像不认识字不理解意思，告诉我不能在她那取票，要到另...      3\n",
       "19975  1099978                           人太多了，2小时排个激流湧进，可能因为七夕特价。      3\n",
       "19976  1099979         没什么好逗的，就是寺庙，信佛的去去不错。不建议去，取票处那里租借的协力车进不去景点。      3\n",
       "19977  1099980  太垃圾了，不是一般的失望！！！！！！走了那么远才看到售票处，而且不做观光车的话，估计走一天长...      3\n",
       "19978  1099981                                   这两个票地方差十万八千里，太差啦      3\n",
       "19979  1099982                          环境差条件差服务员素质差 只有巨浪还凑合 不会再去      3\n",
       "19980  1099983  服务员说。你们下次都别来了，太不好了，挨个旅客告诉，还说谁家更衣室没有地热，柜子都不好使，淋...      3\n",
       "19981  1099984                                          !我订的琅玡山门票      3\n",
       "19982  1099985                                    其实买得比原价贵，导游也很垃圾      3\n",
       "19983  1099986  第一次使用途牛就给我一次狠狠的教训，当时票买错了，我和途牛，旅游社，景区都一一联系，一个推一...      3\n",
       "19984  1099987                         没有优惠 取票立等可取，省了排队 景区内东西贵得要死      3\n",
       "19985  1099988   管理混乱,入园排队,拥挤非常危险,差点就受伤.....非常恐怖, 绝对不会再参加此类活动....      3\n",
       "19986  1099989  天津方特实在没有宣传的那么牛逼，太让人失望了！9点开园，进去很多大型项目还在检修中没有开放，...      3\n",
       "19987  1099990  没显示到底是什么票，到了景点说是只有老人，小孩可以使用，一大一小去的，只换了一张小孩票，大人...      3\n",
       "19988  1099991                                  服务态度恶劣，台风来了也没人来救援      3\n",
       "19989  1099992                                    直接刷身份证，很方便，不用排队      3\n",
       "19990  1099993       景区接待人员态度恶劣，说不清楚在哪里，还牢骚一堆。不建议买这家的，出门在外的惹闲气。糟心      3\n",
       "19991  1099994  21号游玩，因为预订后一直没收到确认订单，20晚上我又打电话给客服说没收到出行订单，客服说会...      3\n",
       "19992  1099995         导游帮我们拿到票后不给票，让加钱！不加钱不让上船！差评！最后我们4个人加了100块！      3\n",
       "19993  1099996                                               ,很好。      3\n",
       "19994  1099997                                      票价优惠不太大，景区也一般      3\n",
       "19995  1099998  首先说明一下预订的票根本就没有取成，原因是景点告知途牛与其协议4月份就过期了，既然过期了途牛...      3\n",
       "19996  1099999    途牛发的订票信息居然是错的，现场取票来回耽误了近10多分钟，幸亏人不多，人多要耽误一小时以上了      3\n",
       "19997  1100000  很失望，5月1号中午定的票，未收到订单识别码，到第二天早上到景区门口了，也没收到，这倒也没什...      3\n",
       "19998  1100001  一点也不好。景区有说学生票拿学生证免费的。途牛里没提示。。去了景区学生证免费进去了。打电话叫...      3\n",
       "19999  1100002                                       没什么意思，就只有个石像      3\n",
       "\n",
       "[20000 rows x 3 columns]"
      ]
     },
     "execution_count": 25,
     "metadata": {},
     "output_type": "execute_result"
    }
   ],
   "source": [
    "data.fillna(' ')"
   ]
  },
  {
   "cell_type": "code",
   "execution_count": 31,
   "metadata": {
    "collapsed": false
   },
   "outputs": [
    {
     "data": {
      "text/plain": [
       "0        1\n",
       "1        1\n",
       "2        1\n",
       "3        1\n",
       "4        1\n",
       "5        1\n",
       "6        1\n",
       "7        1\n",
       "8        1\n",
       "9        1\n",
       "10       1\n",
       "11       1\n",
       "12       1\n",
       "13       1\n",
       "14       1\n",
       "15       1\n",
       "16       1\n",
       "17       1\n",
       "18       1\n",
       "19       1\n",
       "20       1\n",
       "21       1\n",
       "22       1\n",
       "23       1\n",
       "24       1\n",
       "25       1\n",
       "26       1\n",
       "27       1\n",
       "28       1\n",
       "29       1\n",
       "        ..\n",
       "19970    3\n",
       "19971    3\n",
       "19972    3\n",
       "19973    3\n",
       "19974    3\n",
       "19975    3\n",
       "19976    3\n",
       "19977    3\n",
       "19978    3\n",
       "19979    3\n",
       "19980    3\n",
       "19981    3\n",
       "19982    3\n",
       "19983    3\n",
       "19984    3\n",
       "19985    3\n",
       "19986    3\n",
       "19987    3\n",
       "19988    3\n",
       "19989    3\n",
       "19990    3\n",
       "19991    3\n",
       "19992    3\n",
       "19993    3\n",
       "19994    3\n",
       "19995    3\n",
       "19996    3\n",
       "19997    3\n",
       "19998    3\n",
       "19999    3\n",
       "Name: label, dtype: int64"
      ]
     },
     "execution_count": 31,
     "metadata": {},
     "output_type": "execute_result"
    }
   ],
   "source": [
    "data.label"
   ]
  },
  {
   "cell_type": "code",
   "execution_count": 28,
   "metadata": {
    "collapsed": false,
    "scrolled": true
   },
   "outputs": [
    {
     "data": {
      "text/plain": [
       "3    7000\n",
       "1    7000\n",
       "2    6000\n",
       "Name: label, dtype: int64"
      ]
     },
     "execution_count": 28,
     "metadata": {},
     "output_type": "execute_result"
    }
   ],
   "source": [
    "data.label.value_counts()"
   ]
  },
  {
   "cell_type": "code",
   "execution_count": 27,
   "metadata": {
    "collapsed": false
   },
   "outputs": [
    {
     "ename": "AttributeError",
     "evalue": "'float' object has no attribute 'decode'",
     "output_type": "error",
     "traceback": [
      "\u001b[0;31m---------------------------------------------------------------------------\u001b[0m",
      "\u001b[0;31mAttributeError\u001b[0m                            Traceback (most recent call last)",
      "\u001b[0;32m<ipython-input-27-7b06a2c84901>\u001b[0m in \u001b[0;36m<module>\u001b[0;34m()\u001b[0m\n\u001b[0;32m----> 1\u001b[0;31m \u001b[0mdata\u001b[0m\u001b[0;34m[\u001b[0m\u001b[0;34m'review_cut'\u001b[0m\u001b[0;34m]\u001b[0m\u001b[0;34m=\u001b[0m\u001b[0mdata\u001b[0m\u001b[0;34m[\u001b[0m\u001b[0;34m'review'\u001b[0m\u001b[0;34m]\u001b[0m\u001b[0;34m.\u001b[0m\u001b[0mmap\u001b[0m\u001b[0;34m(\u001b[0m\u001b[0;32mlambda\u001b[0m \u001b[0mx\u001b[0m\u001b[0;34m:\u001b[0m\u001b[0mlist\u001b[0m\u001b[0;34m(\u001b[0m\u001b[0mjieba\u001b[0m\u001b[0;34m.\u001b[0m\u001b[0mcut\u001b[0m\u001b[0;34m(\u001b[0m\u001b[0mx\u001b[0m\u001b[0;34m)\u001b[0m\u001b[0;34m)\u001b[0m\u001b[0;34m)\u001b[0m\u001b[0;34m\u001b[0m\u001b[0m\n\u001b[0m",
      "\u001b[0;32m/home/bigdata/anaconda3/lib/python3.5/site-packages/pandas/core/series.py\u001b[0m in \u001b[0;36mmap\u001b[0;34m(self, arg, na_action)\u001b[0m\n\u001b[1;32m   2175\u001b[0m             \u001b[0mnew_values\u001b[0m \u001b[0;34m=\u001b[0m \u001b[0malgos\u001b[0m\u001b[0;34m.\u001b[0m\u001b[0mtake_1d\u001b[0m\u001b[0;34m(\u001b[0m\u001b[0marg\u001b[0m\u001b[0;34m.\u001b[0m\u001b[0m_values\u001b[0m\u001b[0;34m,\u001b[0m \u001b[0mindexer\u001b[0m\u001b[0;34m)\u001b[0m\u001b[0;34m\u001b[0m\u001b[0m\n\u001b[1;32m   2176\u001b[0m         \u001b[0;32melse\u001b[0m\u001b[0;34m:\u001b[0m\u001b[0;34m\u001b[0m\u001b[0m\n\u001b[0;32m-> 2177\u001b[0;31m             \u001b[0mnew_values\u001b[0m \u001b[0;34m=\u001b[0m \u001b[0mmap_f\u001b[0m\u001b[0;34m(\u001b[0m\u001b[0mvalues\u001b[0m\u001b[0;34m,\u001b[0m \u001b[0marg\u001b[0m\u001b[0;34m)\u001b[0m\u001b[0;34m\u001b[0m\u001b[0m\n\u001b[0m\u001b[1;32m   2178\u001b[0m \u001b[0;34m\u001b[0m\u001b[0m\n\u001b[1;32m   2179\u001b[0m         return self._constructor(new_values,\n",
      "\u001b[0;32mpandas/src/inference.pyx\u001b[0m in \u001b[0;36mpandas.lib.map_infer (pandas/lib.c:66124)\u001b[0;34m()\u001b[0m\n",
      "\u001b[0;32m<ipython-input-27-7b06a2c84901>\u001b[0m in \u001b[0;36m<lambda>\u001b[0;34m(x)\u001b[0m\n\u001b[0;32m----> 1\u001b[0;31m \u001b[0mdata\u001b[0m\u001b[0;34m[\u001b[0m\u001b[0;34m'review_cut'\u001b[0m\u001b[0;34m]\u001b[0m\u001b[0;34m=\u001b[0m\u001b[0mdata\u001b[0m\u001b[0;34m[\u001b[0m\u001b[0;34m'review'\u001b[0m\u001b[0;34m]\u001b[0m\u001b[0;34m.\u001b[0m\u001b[0mmap\u001b[0m\u001b[0;34m(\u001b[0m\u001b[0;32mlambda\u001b[0m \u001b[0mx\u001b[0m\u001b[0;34m:\u001b[0m\u001b[0mlist\u001b[0m\u001b[0;34m(\u001b[0m\u001b[0mjieba\u001b[0m\u001b[0;34m.\u001b[0m\u001b[0mcut\u001b[0m\u001b[0;34m(\u001b[0m\u001b[0mx\u001b[0m\u001b[0;34m)\u001b[0m\u001b[0;34m)\u001b[0m\u001b[0;34m)\u001b[0m\u001b[0;34m\u001b[0m\u001b[0m\n\u001b[0m",
      "\u001b[0;32m/home/bigdata/anaconda3/lib/python3.5/site-packages/jieba/__init__.py\u001b[0m in \u001b[0;36mcut\u001b[0;34m(self, sentence, cut_all, HMM)\u001b[0m\n\u001b[1;32m    280\u001b[0m             \u001b[0;34m-\u001b[0m \u001b[0mHMM\u001b[0m\u001b[0;34m:\u001b[0m \u001b[0mWhether\u001b[0m \u001b[0mto\u001b[0m \u001b[0muse\u001b[0m \u001b[0mthe\u001b[0m \u001b[0mHidden\u001b[0m \u001b[0mMarkov\u001b[0m \u001b[0mModel\u001b[0m\u001b[0;34m.\u001b[0m\u001b[0;34m\u001b[0m\u001b[0m\n\u001b[1;32m    281\u001b[0m         '''\n\u001b[0;32m--> 282\u001b[0;31m         \u001b[0msentence\u001b[0m \u001b[0;34m=\u001b[0m \u001b[0mstrdecode\u001b[0m\u001b[0;34m(\u001b[0m\u001b[0msentence\u001b[0m\u001b[0;34m)\u001b[0m\u001b[0;34m\u001b[0m\u001b[0m\n\u001b[0m\u001b[1;32m    283\u001b[0m \u001b[0;34m\u001b[0m\u001b[0m\n\u001b[1;32m    284\u001b[0m         \u001b[0;32mif\u001b[0m \u001b[0mcut_all\u001b[0m\u001b[0;34m:\u001b[0m\u001b[0;34m\u001b[0m\u001b[0m\n",
      "\u001b[0;32m/home/bigdata/anaconda3/lib/python3.5/site-packages/jieba/_compat.py\u001b[0m in \u001b[0;36mstrdecode\u001b[0;34m(sentence)\u001b[0m\n\u001b[1;32m     35\u001b[0m     \u001b[0;32mif\u001b[0m \u001b[0;32mnot\u001b[0m \u001b[0misinstance\u001b[0m\u001b[0;34m(\u001b[0m\u001b[0msentence\u001b[0m\u001b[0;34m,\u001b[0m \u001b[0mtext_type\u001b[0m\u001b[0;34m)\u001b[0m\u001b[0;34m:\u001b[0m\u001b[0;34m\u001b[0m\u001b[0m\n\u001b[1;32m     36\u001b[0m         \u001b[0;32mtry\u001b[0m\u001b[0;34m:\u001b[0m\u001b[0;34m\u001b[0m\u001b[0m\n\u001b[0;32m---> 37\u001b[0;31m             \u001b[0msentence\u001b[0m \u001b[0;34m=\u001b[0m \u001b[0msentence\u001b[0m\u001b[0;34m.\u001b[0m\u001b[0mdecode\u001b[0m\u001b[0;34m(\u001b[0m\u001b[0;34m'utf-8'\u001b[0m\u001b[0;34m)\u001b[0m\u001b[0;34m\u001b[0m\u001b[0m\n\u001b[0m\u001b[1;32m     38\u001b[0m         \u001b[0;32mexcept\u001b[0m \u001b[0mUnicodeDecodeError\u001b[0m\u001b[0;34m:\u001b[0m\u001b[0;34m\u001b[0m\u001b[0m\n\u001b[1;32m     39\u001b[0m             \u001b[0msentence\u001b[0m \u001b[0;34m=\u001b[0m \u001b[0msentence\u001b[0m\u001b[0;34m.\u001b[0m\u001b[0mdecode\u001b[0m\u001b[0;34m(\u001b[0m\u001b[0;34m'gbk'\u001b[0m\u001b[0;34m,\u001b[0m \u001b[0;34m'ignore'\u001b[0m\u001b[0;34m)\u001b[0m\u001b[0;34m\u001b[0m\u001b[0m\n",
      "\u001b[0;31mAttributeError\u001b[0m: 'float' object has no attribute 'decode'"
     ]
    }
   ],
   "source": [
    "data['review_cut']=data['review'].map(lambda x:list(jieba.cut(x)))"
   ]
  },
  {
   "cell_type": "code",
   "execution_count": null,
   "metadata": {
    "collapsed": true
   },
   "outputs": [],
   "source": []
  },
  {
   "cell_type": "code",
   "execution_count": null,
   "metadata": {
    "collapsed": true
   },
   "outputs": [],
   "source": []
  },
  {
   "cell_type": "code",
   "execution_count": null,
   "metadata": {
    "collapsed": true
   },
   "outputs": [],
   "source": []
  },
  {
   "cell_type": "code",
   "execution_count": null,
   "metadata": {
    "collapsed": true
   },
   "outputs": [],
   "source": []
  },
  {
   "cell_type": "code",
   "execution_count": null,
   "metadata": {
    "collapsed": true
   },
   "outputs": [],
   "source": []
  },
  {
   "cell_type": "code",
   "execution_count": null,
   "metadata": {
    "collapsed": true
   },
   "outputs": [],
   "source": []
  },
  {
   "cell_type": "code",
   "execution_count": 7,
   "metadata": {
    "collapsed": false
   },
   "outputs": [],
   "source": [
    "content =list(data.q1_cut)+list(data.q2_cut)\n",
    "\n",
    "\n",
    "model = Word2Vec(content, size=config['w2v_vec_dim'], window=5, min_count=5, workers=multiprocessing.cpu_count()\n",
    "                 )\n",
    "model.save(config['w2v_content_word_model'])"
   ]
  },
  {
   "cell_type": "code",
   "execution_count": null,
   "metadata": {
    "collapsed": true
   },
   "outputs": [],
   "source": []
  },
  {
   "cell_type": "code",
   "execution_count": 8,
   "metadata": {
    "collapsed": false,
    "scrolled": false
   },
   "outputs": [
    {
     "name": "stdout",
     "output_type": "stream",
     "text": [
      "(2552, 256)\n",
      "save\n"
     ]
    },
    {
     "name": "stderr",
     "output_type": "stream",
     "text": [
      "/home/bigdata/anaconda3/envs/py2/lib/python2.7/site-packages/ipykernel/__main__.py:1: DeprecationWarning: Call to deprecated `syn0` (Attribute will be removed in 4.0.0, use self.wv.vectors instead).\n",
      "  if __name__ == '__main__':\n"
     ]
    }
   ],
   "source": [
    "weights = model.wv.syn0\n",
    "vocab = dict([(k, v.index + 1) for k, v in model.wv.vocab.items()])\n",
    "vocab['<-UNKNOW->'] = len(vocab) + 1\n",
    "embed_weights = np.zeros(shape=(weights.shape[0] + 2, weights.shape[1]))\n",
    "embed_weights[1:weights.shape[0] + 1] = weights\n",
    "unk_vec = np.random.random(size=weights.shape[1]) * 0.5\n",
    "pading_vec = np.random.random(size=weights.shape[1]) * 0\n",
    "embed_weights[weights.shape[0] + 1] = unk_vec - unk_vec.mean()\n",
    "embed_weights[0] = pading_vec\n",
    "\n",
    "#pickle.dump(vocab, open(config['word_embed_dict'], \"wb\"))\n",
    "\n",
    "config['vocab_size'] = embed_weights.shape[0]\n",
    "config['w2v_vec_dim'] = embed_weights.shape[1]\n",
    "yaml.dump(config, open('config.yaml', 'w'))\n",
    "\n",
    "np.save(config['word_embed_weight'], embed_weights)\n",
    "print(embed_weights.shape)\n",
    "print('save')"
   ]
  },
  {
   "cell_type": "code",
   "execution_count": 9,
   "metadata": {
    "collapsed": true
   },
   "outputs": [],
   "source": [
    "word_voc = vocab"
   ]
  },
  {
   "cell_type": "code",
   "execution_count": 10,
   "metadata": {
    "collapsed": true
   },
   "outputs": [],
   "source": [
    "\n",
    "\n",
    "\n",
    "def padding_id(ids, padding_token=0, padding_length=None):\n",
    "    if len(ids) > padding_length:\n",
    "        return ids[:padding_length]\n",
    "    else:\n",
    "        return ids + [padding_token] * (padding_length - len(ids))\n",
    "\n",
    "\n",
    "def word2id(contents):\n",
    "    ''' contents  list\n",
    "    '''\n",
    "#     contents = str(contents)\n",
    "#     contents = contents.split()\n",
    "\n",
    "    ids = [word_voc[c] if c in word_voc else len(word_voc) for c in contents]\n",
    "\n",
    "    return padding_id(ids, padding_token=0, padding_length=config['word_maxlen'])\n",
    "\n",
    "\n",
    "def data2id():\n",
    "\n",
    "    data = read_df(config['train_cut'])\n",
    "    data['title'] = data.title.map(lambda x: word2id(x))\n",
    "    data['content'] = data.content.map(lambda x: word2id(x))\n",
    "    print(data.head(4))\n",
    "    data.to_pickle(config['train_cut_id_dump'])\n"
   ]
  },
  {
   "cell_type": "code",
   "execution_count": 12,
   "metadata": {
    "collapsed": false
   },
   "outputs": [],
   "source": [
    "data['q1_cut_id'] = data['q1_cut'].map(lambda x: word2id(x))\n",
    "data['q2_cut_id'] = data['q2_cut'].map(lambda x: word2id(x))"
   ]
  },
  {
   "cell_type": "code",
   "execution_count": 13,
   "metadata": {
    "collapsed": false,
    "scrolled": true
   },
   "outputs": [
    {
     "data": {
      "text/html": [
       "<div>\n",
       "<style scoped>\n",
       "    .dataframe tbody tr th:only-of-type {\n",
       "        vertical-align: middle;\n",
       "    }\n",
       "\n",
       "    .dataframe tbody tr th {\n",
       "        vertical-align: top;\n",
       "    }\n",
       "\n",
       "    .dataframe thead th {\n",
       "        text-align: right;\n",
       "    }\n",
       "</style>\n",
       "<table border=\"1\" class=\"dataframe\">\n",
       "  <thead>\n",
       "    <tr style=\"text-align: right;\">\n",
       "      <th></th>\n",
       "      <th>id</th>\n",
       "      <th>q1</th>\n",
       "      <th>q2</th>\n",
       "      <th>label</th>\n",
       "      <th>q1_cut</th>\n",
       "      <th>q2_cut</th>\n",
       "      <th>q1_cut_id</th>\n",
       "      <th>q2_cut_id</th>\n",
       "    </tr>\n",
       "  </thead>\n",
       "  <tbody>\n",
       "    <tr>\n",
       "      <th>0</th>\n",
       "      <td>﻿1</td>\n",
       "      <td>﻿怎么更改花呗手机号码</td>\n",
       "      <td>我的花呗是以前的手机号码，怎么更改成现在的支付宝的号码手机号</td>\n",
       "      <td>1</td>\n",
       "      <td>[﻿, 怎么, 更改, 花, 呗, 手机号码]</td>\n",
       "      <td>[我, 的, 花, 呗, 是, 以前, 的, 手机号码, ，, 怎么, 更, 改成, 现在,...</td>\n",
       "      <td>[2551, 10, 233, 2, 1, 216, 0, 0, 0, 0, 0, 0, 0...</td>\n",
       "      <td>[5, 4, 2, 1, 19, 159, 4, 216, 8, 10, 986, 603,...</td>\n",
       "    </tr>\n",
       "    <tr>\n",
       "      <th>1</th>\n",
       "      <td>2</td>\n",
       "      <td>也开不了花呗，就这样了？完事了</td>\n",
       "      <td>真的嘛？就是花呗付款</td>\n",
       "      <td>0</td>\n",
       "      <td>[也, 开, 不了, 花, 呗, ，, 就, 这样, 了, ？, 完事, 了]</td>\n",
       "      <td>[真的, 嘛, ？, 就是, 花, 呗, 付款]</td>\n",
       "      <td>[103, 160, 32, 2, 1, 8, 74, 623, 7, 139, 2479,...</td>\n",
       "      <td>[802, 131, 139, 225, 2, 1, 35, 0, 0, 0, 0, 0, ...</td>\n",
       "    </tr>\n",
       "    <tr>\n",
       "      <th>2</th>\n",
       "      <td>3</td>\n",
       "      <td>花呗冻结以后还能开通吗</td>\n",
       "      <td>我的条件可以开通花呗借款吗</td>\n",
       "      <td>0</td>\n",
       "      <td>[花, 呗, 冻结, 以后, 还, 能, 开通, 吗]</td>\n",
       "      <td>[我, 的, 条件, 可以, 开通, 花, 呗, 借款, 吗]</td>\n",
       "      <td>[2, 1, 110, 178, 11, 23, 20, 9, 0, 0, 0, 0, 0,...</td>\n",
       "      <td>[5, 4, 186, 14, 20, 2, 1, 120, 9, 0, 0, 0, 0, ...</td>\n",
       "    </tr>\n",
       "    <tr>\n",
       "      <th>3</th>\n",
       "      <td>4</td>\n",
       "      <td>如何得知关闭借呗</td>\n",
       "      <td>想永久关闭借呗</td>\n",
       "      <td>0</td>\n",
       "      <td>[如何, 得知, 关闭, 借, 呗]</td>\n",
       "      <td>[想, 永久, 关闭, 借, 呗]</td>\n",
       "      <td>[55, 2551, 53, 3, 1, 0, 0, 0, 0, 0, 0, 0, 0, 0...</td>\n",
       "      <td>[70, 574, 53, 3, 1, 0, 0, 0, 0, 0, 0, 0, 0, 0,...</td>\n",
       "    </tr>\n",
       "    <tr>\n",
       "      <th>4</th>\n",
       "      <td>5</td>\n",
       "      <td>花呗扫码付钱</td>\n",
       "      <td>二维码扫描可以用花呗吗</td>\n",
       "      <td>0</td>\n",
       "      <td>[花, 呗, 扫码, 付钱]</td>\n",
       "      <td>[二维码, 扫描, 可以, 用花, 呗, 吗]</td>\n",
       "      <td>[2, 1, 311, 556, 0, 0, 0, 0, 0, 0, 0, 0, 0, 0,...</td>\n",
       "      <td>[210, 868, 14, 33, 1, 9, 0, 0, 0, 0, 0, 0, 0, ...</td>\n",
       "    </tr>\n",
       "  </tbody>\n",
       "</table>\n",
       "</div>"
      ],
      "text/plain": [
       "   id               q1                              q2  label  \\\n",
       "0  ﻿1      ﻿怎么更改花呗手机号码  我的花呗是以前的手机号码，怎么更改成现在的支付宝的号码手机号      1   \n",
       "1   2  也开不了花呗，就这样了？完事了                      真的嘛？就是花呗付款      0   \n",
       "2   3      花呗冻结以后还能开通吗                   我的条件可以开通花呗借款吗      0   \n",
       "3   4         如何得知关闭借呗                         想永久关闭借呗      0   \n",
       "4   5           花呗扫码付钱                     二维码扫描可以用花呗吗      0   \n",
       "\n",
       "                                    q1_cut  \\\n",
       "0                  [﻿, 怎么, 更改, 花, 呗, 手机号码]   \n",
       "1  [也, 开, 不了, 花, 呗, ，, 就, 这样, 了, ？, 完事, 了]   \n",
       "2              [花, 呗, 冻结, 以后, 还, 能, 开通, 吗]   \n",
       "3                       [如何, 得知, 关闭, 借, 呗]   \n",
       "4                           [花, 呗, 扫码, 付钱]   \n",
       "\n",
       "                                              q2_cut  \\\n",
       "0  [我, 的, 花, 呗, 是, 以前, 的, 手机号码, ，, 怎么, 更, 改成, 现在,...   \n",
       "1                           [真的, 嘛, ？, 就是, 花, 呗, 付款]   \n",
       "2                    [我, 的, 条件, 可以, 开通, 花, 呗, 借款, 吗]   \n",
       "3                                  [想, 永久, 关闭, 借, 呗]   \n",
       "4                            [二维码, 扫描, 可以, 用花, 呗, 吗]   \n",
       "\n",
       "                                           q1_cut_id  \\\n",
       "0  [2551, 10, 233, 2, 1, 216, 0, 0, 0, 0, 0, 0, 0...   \n",
       "1  [103, 160, 32, 2, 1, 8, 74, 623, 7, 139, 2479,...   \n",
       "2  [2, 1, 110, 178, 11, 23, 20, 9, 0, 0, 0, 0, 0,...   \n",
       "3  [55, 2551, 53, 3, 1, 0, 0, 0, 0, 0, 0, 0, 0, 0...   \n",
       "4  [2, 1, 311, 556, 0, 0, 0, 0, 0, 0, 0, 0, 0, 0,...   \n",
       "\n",
       "                                           q2_cut_id  \n",
       "0  [5, 4, 2, 1, 19, 159, 4, 216, 8, 10, 986, 603,...  \n",
       "1  [802, 131, 139, 225, 2, 1, 35, 0, 0, 0, 0, 0, ...  \n",
       "2  [5, 4, 186, 14, 20, 2, 1, 120, 9, 0, 0, 0, 0, ...  \n",
       "3  [70, 574, 53, 3, 1, 0, 0, 0, 0, 0, 0, 0, 0, 0,...  \n",
       "4  [210, 868, 14, 33, 1, 9, 0, 0, 0, 0, 0, 0, 0, ...  "
      ]
     },
     "execution_count": 13,
     "metadata": {},
     "output_type": "execute_result"
    }
   ],
   "source": [
    "data.head()"
   ]
  },
  {
   "cell_type": "code",
   "execution_count": null,
   "metadata": {
    "collapsed": true
   },
   "outputs": [],
   "source": []
  },
  {
   "cell_type": "code",
   "execution_count": null,
   "metadata": {
    "collapsed": true
   },
   "outputs": [],
   "source": []
  },
  {
   "cell_type": "code",
   "execution_count": null,
   "metadata": {
    "collapsed": true
   },
   "outputs": [],
   "source": []
  },
  {
   "cell_type": "code",
   "execution_count": null,
   "metadata": {
    "collapsed": true
   },
   "outputs": [],
   "source": []
  },
  {
   "cell_type": "code",
   "execution_count": 44,
   "metadata": {
    "collapsed": false
   },
   "outputs": [],
   "source": [
    "import keras\n",
    "from keras.models import *\n",
    "from keras.layers import *\n",
    "from keras.optimizers import *\n",
    "from keras.preprocessing import sequence\n",
    "from keras.regularizers import l2\n",
    "from keras import backend as K\n",
    "from keras.engine.topology import Layer\n",
    "from keras.backend.tensorflow_backend import set_session\n",
    "import time\n",
    "from tensorflow.contrib import learn\n",
    "import yaml\n",
    "from sklearn.model_selection import train_test_split\n",
    "from sklearn.metrics import precision_score, recall_score, f1_score\n",
    "import numpy as np\n",
    "from keras import backend as K\n",
    "\n",
    "params = yaml.load(open('params.yaml', 'r'))\n",
    "config = yaml.load(open('config.yaml', 'r'))"
   ]
  },
  {
   "cell_type": "code",
   "execution_count": 25,
   "metadata": {
    "collapsed": true
   },
   "outputs": [],
   "source": [
    "def convs_block(data, convs=[3,4,5], f=256, name=\"conv_feat\"):\n",
    "    pools = []\n",
    "    for c in convs:\n",
    "        conv = Activation(activation=\"relu\")(BatchNormalization()(\n",
    "            Conv1D(filters=f, kernel_size=c, padding=\"valid\")(data)))\n",
    "        pool = GlobalMaxPool1D()(conv)\n",
    "        pools.append(pool)\n",
    "    return concatenate(pools, name=name)\n",
    "\n",
    "\n",
    "def convs_block2(data, convs=[3, 4, 5], f=256, name=\"conv_feat\"):\n",
    "    pools = []\n",
    "    for c in convs:\n",
    "        conv = Activation(activation=\"relu\")(BatchNormalization()(\n",
    "            Conv1D(filters=f, kernel_size=c, padding=\"valid\")(data)))\n",
    "        conv = MaxPool1D(pool_size=10)(conv)\n",
    "        conv = Activation(activation=\"relu\")(BatchNormalization()(\n",
    "            Conv1D(filters=f, kernel_size=c, padding=\"valid\")(conv)))\n",
    "\n",
    "        pool = GlobalMaxPool1D()(conv)\n",
    "        pools.append(pool)\n",
    "    return concatenate(pools, name=name)\n",
    "\n",
    "\n",
    "def get_textcnn(seq_length, embed_weight, pretrain=False):\n",
    "    content = Input(shape=(seq_length,), dtype=\"int32\")\n",
    "    if pretrain:\n",
    "        embedding = Embedding(name='word_embedding', input_dim=config[\n",
    "                              'vocab_size'], weights=[embed_weight], output_dim=config['w2v_vec_dim'], trainable=False)\n",
    "    else:\n",
    "        embedding = Embedding(name='word_embedding', input_dim=config[\n",
    "                              'vocab_size'], output_dim=config['w2v_vec_dim'], trainable=True)\n",
    "    trans_content = Activation(activation=\"relu\")(\n",
    "        BatchNormalization()((TimeDistributed(Dense(256))(embedding(content)))))\n",
    "    feat = convs_block(trans_content)\n",
    "    dropfeat = Dropout(0.2)(feat)\n",
    "    fc = Activation(activation=\"relu\")(\n",
    "        BatchNormalization()(Dense(256)(dropfeat)))\n",
    "    output = Dense(2, activation=\"softmax\")(fc)\n",
    "    model = Model(inputs=content, outputs=output)\n",
    "    model.compile(loss='categorical_crossentropy',\n",
    "                  optimizer=\"adam\", metrics=['accuracy'])\n",
    "    model.summary()\n",
    "    return model"
   ]
  },
  {
   "cell_type": "code",
   "execution_count": 26,
   "metadata": {
    "collapsed": false
   },
   "outputs": [],
   "source": [
    "import sys\n",
    "\n",
    "import numpy as np\n",
    "import pandas as pd\n",
    "import pickle\n",
    "import keras\n",
    "from keras.models import *\n",
    "from keras.layers import *\n",
    "from keras.optimizers import *\n",
    "from keras.preprocessing import sequence\n",
    "from keras.regularizers import l2\n",
    "from keras import backend as K\n",
    "from keras.engine.topology import Layer\n",
    "from keras.backend.tensorflow_backend import set_session\n",
    "#from recurrentshop import *\n",
    "import time\n",
    "from tensorflow.contrib import learn\n",
    "import yaml\n",
    "from sklearn.model_selection import train_test_split\n",
    "import keras.backend as K\n",
    "from keras.callbacks import TensorBoard\n",
    "params = yaml.load(open('params.yaml', 'r'))\n",
    "config = yaml.load(open('config.yaml', 'r'))\n",
    "\n",
    "from keras.callbacks import Callback\n",
    "from sklearn.metrics import confusion_matrix, accuracy_score, f1_score, precision_score, recall_score\n",
    "\n",
    "\n",
    "\n",
    "def score(label, pred, gate=0.5):\n",
    "\n",
    "    if len(label.shape) == 1:\n",
    "        p = (pred > gate).astype(\"int\")\n",
    "        p = np.squeeze(p)\n",
    "        l = label\n",
    "    else:\n",
    "        p = np.argmax(pred, axis=1)\n",
    "        l = np.argmax(label, axis=1)\n",
    "\n",
    "    #print(confusion_matrix(l, p).view())\n",
    "    pre_score = precision_score(l, p, pos_label=1, average='binary')\n",
    "    rec_score = recall_score(l, p, pos_label=1, average='binary')\n",
    "    f_score = f1_score(l, p)\n",
    "    return pre_score, rec_score, f_score"
   ]
  },
  {
   "cell_type": "code",
   "execution_count": null,
   "metadata": {
    "collapsed": true
   },
   "outputs": [],
   "source": []
  },
  {
   "cell_type": "code",
   "execution_count": 27,
   "metadata": {
    "collapsed": true
   },
   "outputs": [],
   "source": [
    "q1_id = np.array(list(data.q1_cut_id.values))\n",
    "q2_id = np.array(list(data.q2_cut_id.values))"
   ]
  },
  {
   "cell_type": "code",
   "execution_count": 28,
   "metadata": {
    "collapsed": false,
    "scrolled": true
   },
   "outputs": [
    {
     "data": {
      "text/plain": [
       "(39346, 20)"
      ]
     },
     "execution_count": 28,
     "metadata": {},
     "output_type": "execute_result"
    }
   ],
   "source": [
    "q1_id.shape"
   ]
  },
  {
   "cell_type": "code",
   "execution_count": 29,
   "metadata": {
    "collapsed": false,
    "scrolled": false
   },
   "outputs": [
    {
     "data": {
      "text/plain": [
       "(39346, 40)"
      ]
     },
     "execution_count": 29,
     "metadata": {},
     "output_type": "execute_result"
    }
   ],
   "source": [
    "np.concatenate([q1_id,q2_id],1).shape"
   ]
  },
  {
   "cell_type": "code",
   "execution_count": 30,
   "metadata": {
    "collapsed": true
   },
   "outputs": [],
   "source": [
    "data['label'] = data['label'].apply(\n",
    "        lambda x: int(x ==1))  # 人写的是1 机器写的是0\n",
    "X = np.concatenate([q1_id,q2_id],1)\n",
    "Y = keras.utils.to_categorical(list(data.label), num_classes=2)"
   ]
  },
  {
   "cell_type": "code",
   "execution_count": 31,
   "metadata": {
    "collapsed": false
   },
   "outputs": [],
   "source": [
    "x_train, x_dev, y_train, y_dev = train_test_split(X, Y,    test_size=0.1,     random_state=2008)\n"
   ]
  },
  {
   "cell_type": "code",
   "execution_count": null,
   "metadata": {
    "collapsed": true
   },
   "outputs": [],
   "source": []
  },
  {
   "cell_type": "code",
   "execution_count": 32,
   "metadata": {
    "collapsed": true
   },
   "outputs": [],
   "source": [
    "def train_batch_generator(x_source, y_source, batch):\n",
    "    while True:\n",
    "        batch_list_x = []\n",
    "        batch_list_y = []\n",
    "        for line, y in zip(x_source, y_source):\n",
    "            x = line.astype('float32')\n",
    "            batch_list_x.append(x)\n",
    "            batch_list_y.append(y)\n",
    "            if len(batch_list_x) == batch:\n",
    "                yield (np.array(batch_list_x), np.array(batch_list_y))\n",
    "                batch_list_x = []\n",
    "                batch_list_y = []"
   ]
  },
  {
   "cell_type": "code",
   "execution_count": 35,
   "metadata": {
    "collapsed": false,
    "scrolled": true
   },
   "outputs": [
    {
     "name": "stdout",
     "output_type": "stream",
     "text": [
      "__________________________________________________________________________________________________\n",
      "Layer (type)                    Output Shape         Param #     Connected to                     \n",
      "==================================================================================================\n",
      "input_4 (InputLayer)            (None, 40)           0                                            \n",
      "__________________________________________________________________________________________________\n",
      "word_embedding (Embedding)      (None, 40, 256)      653312      input_4[0][0]                    \n",
      "__________________________________________________________________________________________________\n",
      "time_distributed_4 (TimeDistrib (None, 40, 256)      65792       word_embedding[0][0]             \n",
      "__________________________________________________________________________________________________\n",
      "batch_normalization_20 (BatchNo (None, 40, 256)      1024        time_distributed_4[0][0]         \n",
      "__________________________________________________________________________________________________\n",
      "activation_20 (Activation)      (None, 40, 256)      0           batch_normalization_20[0][0]     \n",
      "__________________________________________________________________________________________________\n",
      "conv1d_14 (Conv1D)              (None, 38, 256)      196864      activation_20[0][0]              \n",
      "__________________________________________________________________________________________________\n",
      "conv1d_15 (Conv1D)              (None, 37, 256)      262400      activation_20[0][0]              \n",
      "__________________________________________________________________________________________________\n",
      "conv1d_16 (Conv1D)              (None, 36, 256)      327936      activation_20[0][0]              \n",
      "__________________________________________________________________________________________________\n",
      "batch_normalization_21 (BatchNo (None, 38, 256)      1024        conv1d_14[0][0]                  \n",
      "__________________________________________________________________________________________________\n",
      "batch_normalization_22 (BatchNo (None, 37, 256)      1024        conv1d_15[0][0]                  \n",
      "__________________________________________________________________________________________________\n",
      "batch_normalization_23 (BatchNo (None, 36, 256)      1024        conv1d_16[0][0]                  \n",
      "__________________________________________________________________________________________________\n",
      "activation_21 (Activation)      (None, 38, 256)      0           batch_normalization_21[0][0]     \n",
      "__________________________________________________________________________________________________\n",
      "activation_22 (Activation)      (None, 37, 256)      0           batch_normalization_22[0][0]     \n",
      "__________________________________________________________________________________________________\n",
      "activation_23 (Activation)      (None, 36, 256)      0           batch_normalization_23[0][0]     \n",
      "__________________________________________________________________________________________________\n",
      "global_max_pooling1d_14 (Global (None, 256)          0           activation_21[0][0]              \n",
      "__________________________________________________________________________________________________\n",
      "global_max_pooling1d_15 (Global (None, 256)          0           activation_22[0][0]              \n",
      "__________________________________________________________________________________________________\n",
      "global_max_pooling1d_16 (Global (None, 256)          0           activation_23[0][0]              \n",
      "__________________________________________________________________________________________________\n",
      "conv_feat (Concatenate)         (None, 768)          0           global_max_pooling1d_14[0][0]    \n",
      "                                                                 global_max_pooling1d_15[0][0]    \n",
      "                                                                 global_max_pooling1d_16[0][0]    \n",
      "__________________________________________________________________________________________________\n",
      "dropout_4 (Dropout)             (None, 768)          0           conv_feat[0][0]                  \n",
      "__________________________________________________________________________________________________\n",
      "dense_11 (Dense)                (None, 256)          196864      dropout_4[0][0]                  \n",
      "__________________________________________________________________________________________________\n",
      "batch_normalization_24 (BatchNo (None, 256)          1024        dense_11[0][0]                   \n",
      "__________________________________________________________________________________________________\n",
      "activation_24 (Activation)      (None, 256)          0           batch_normalization_24[0][0]     \n",
      "__________________________________________________________________________________________________\n",
      "dense_12 (Dense)                (None, 2)            514         activation_24[0][0]              \n",
      "==================================================================================================\n",
      "Total params: 1,708,802\n",
      "Trainable params: 1,706,242\n",
      "Non-trainable params: 2,560\n",
      "__________________________________________________________________________________________________\n",
      "Epoch 1/1\n",
      "276/276 [==============================] - 233s 843ms/step - loss: 0.5424 - acc: 0.7645 - val_loss: 0.6513 - val_acc: 0.7855\n",
      "('p r f1 ', 1.0, 0.007058823529411765, 0.014018691588785047)\n",
      "Epoch 1/1\n",
      "276/276 [==============================] - 229s 831ms/step - loss: 0.4759 - acc: 0.7880 - val_loss: 0.5375 - val_acc: 0.7896\n",
      "('p r f1 ', 0.59482758620689657, 0.081176470588235294, 0.14285714285714285)\n",
      "Epoch 1/1\n",
      "276/276 [==============================] - 229s 828ms/step - loss: 0.4397 - acc: 0.8035 - val_loss: 0.5999 - val_acc: 0.7098\n",
      "('p r f1 ', 0.34823284823284822, 0.39411764705882352, 0.36975717439293598)\n",
      "Epoch 1/1\n",
      "276/276 [==============================] - 229s 828ms/step - loss: 0.4016 - acc: 0.8194 - val_loss: 0.5772 - val_acc: 0.7166\n",
      "('p r f1 ', 0.35326688815060908, 0.37529411764705883, 0.36394751853964635)\n",
      "Epoch 1/1\n",
      "276/276 [==============================] - 227s 823ms/step - loss: 0.3589 - acc: 0.8407 - val_loss: 0.6428 - val_acc: 0.7271\n",
      "('p r f1 ', 0.36407766990291263, 0.35294117647058826, 0.35842293906810041)\n",
      "Epoch 1/1\n",
      "276/276 [==============================] - 227s 823ms/step - loss: 0.3178 - acc: 0.8600 - val_loss: 0.6930 - val_acc: 0.7685\n",
      "('p r f1 ', 0.41952506596306066, 0.18705882352941178, 0.25874694873881204)\n",
      "Epoch 1/1\n",
      "276/276 [==============================] - 228s 826ms/step - loss: 0.2777 - acc: 0.8802 - val_loss: 0.7691 - val_acc: 0.7588\n",
      "('p r f1 ', 0.39445628997867804, 0.21764705882352942, 0.28051554207733137)\n",
      "Epoch 1/1\n",
      "276/276 [==============================] - 231s 836ms/step - loss: 0.2460 - acc: 0.8957 - val_loss: 0.7811 - val_acc: 0.7543\n",
      "('p r f1 ', 0.39572192513368987, 0.26117647058823529, 0.31467044649184972)\n",
      "Epoch 1/1\n",
      " 32/276 [==>...........................] - ETA: 3:14 - loss: 0.2511 - acc: 0.8945"
     ]
    },
    {
     "ename": "KeyboardInterrupt",
     "evalue": "",
     "output_type": "error",
     "traceback": [
      "\u001b[0;31m---------------------------------------------------------------------------\u001b[0m",
      "\u001b[0;31mKeyboardInterrupt\u001b[0m                         Traceback (most recent call last)",
      "\u001b[0;32m<ipython-input-35-0916f334efbe>\u001b[0m in \u001b[0;36m<module>\u001b[0;34m()\u001b[0m\n\u001b[1;32m     10\u001b[0m         \u001b[0mepochs\u001b[0m\u001b[0;34m=\u001b[0m\u001b[0;36m1\u001b[0m\u001b[0;34m,\u001b[0m\u001b[0;34m\u001b[0m\u001b[0m\n\u001b[1;32m     11\u001b[0m         \u001b[0msteps_per_epoch\u001b[0m\u001b[0;34m=\u001b[0m\u001b[0mint\u001b[0m\u001b[0;34m(\u001b[0m\u001b[0mx_train\u001b[0m\u001b[0;34m.\u001b[0m\u001b[0mshape\u001b[0m\u001b[0;34m[\u001b[0m\u001b[0;36m0\u001b[0m\u001b[0;34m]\u001b[0m \u001b[0;34m/\u001b[0m \u001b[0mconfig\u001b[0m\u001b[0;34m[\u001b[0m\u001b[0;34m'batch_size'\u001b[0m\u001b[0;34m]\u001b[0m\u001b[0;34m)\u001b[0m\u001b[0;34m,\u001b[0m\u001b[0;34m\u001b[0m\u001b[0m\n\u001b[0;32m---> 12\u001b[0;31m         \u001b[0mvalidation_data\u001b[0m\u001b[0;34m=\u001b[0m\u001b[0;34m(\u001b[0m\u001b[0mx_dev\u001b[0m\u001b[0;34m,\u001b[0m \u001b[0my_dev\u001b[0m\u001b[0;34m)\u001b[0m\u001b[0;34m,\u001b[0m\u001b[0;34m\u001b[0m\u001b[0m\n\u001b[0m\u001b[1;32m     13\u001b[0m \u001b[0;34m\u001b[0m\u001b[0m\n\u001b[1;32m     14\u001b[0m     )\n",
      "\u001b[0;32m/home/bigdata/anaconda3/envs/py2/lib/python2.7/site-packages/keras/legacy/interfaces.pyc\u001b[0m in \u001b[0;36mwrapper\u001b[0;34m(*args, **kwargs)\u001b[0m\n\u001b[1;32m     89\u001b[0m                 warnings.warn('Update your `' + object_name +\n\u001b[1;32m     90\u001b[0m                               '` call to the Keras 2 API: ' + signature, stacklevel=2)\n\u001b[0;32m---> 91\u001b[0;31m             \u001b[0;32mreturn\u001b[0m \u001b[0mfunc\u001b[0m\u001b[0;34m(\u001b[0m\u001b[0;34m*\u001b[0m\u001b[0margs\u001b[0m\u001b[0;34m,\u001b[0m \u001b[0;34m**\u001b[0m\u001b[0mkwargs\u001b[0m\u001b[0;34m)\u001b[0m\u001b[0;34m\u001b[0m\u001b[0m\n\u001b[0m\u001b[1;32m     92\u001b[0m         \u001b[0mwrapper\u001b[0m\u001b[0;34m.\u001b[0m\u001b[0m_original_function\u001b[0m \u001b[0;34m=\u001b[0m \u001b[0mfunc\u001b[0m\u001b[0;34m\u001b[0m\u001b[0m\n\u001b[1;32m     93\u001b[0m         \u001b[0;32mreturn\u001b[0m \u001b[0mwrapper\u001b[0m\u001b[0;34m\u001b[0m\u001b[0m\n",
      "\u001b[0;32m/home/bigdata/anaconda3/envs/py2/lib/python2.7/site-packages/keras/engine/training.pyc\u001b[0m in \u001b[0;36mfit_generator\u001b[0;34m(self, generator, steps_per_epoch, epochs, verbose, callbacks, validation_data, validation_steps, class_weight, max_queue_size, workers, use_multiprocessing, shuffle, initial_epoch)\u001b[0m\n\u001b[1;32m   2222\u001b[0m                     outs = self.train_on_batch(x, y,\n\u001b[1;32m   2223\u001b[0m                                                \u001b[0msample_weight\u001b[0m\u001b[0;34m=\u001b[0m\u001b[0msample_weight\u001b[0m\u001b[0;34m,\u001b[0m\u001b[0;34m\u001b[0m\u001b[0m\n\u001b[0;32m-> 2224\u001b[0;31m                                                class_weight=class_weight)\n\u001b[0m\u001b[1;32m   2225\u001b[0m \u001b[0;34m\u001b[0m\u001b[0m\n\u001b[1;32m   2226\u001b[0m                     \u001b[0;32mif\u001b[0m \u001b[0;32mnot\u001b[0m \u001b[0misinstance\u001b[0m\u001b[0;34m(\u001b[0m\u001b[0mouts\u001b[0m\u001b[0;34m,\u001b[0m \u001b[0mlist\u001b[0m\u001b[0;34m)\u001b[0m\u001b[0;34m:\u001b[0m\u001b[0;34m\u001b[0m\u001b[0m\n",
      "\u001b[0;32m/home/bigdata/anaconda3/envs/py2/lib/python2.7/site-packages/keras/engine/training.pyc\u001b[0m in \u001b[0;36mtrain_on_batch\u001b[0;34m(self, x, y, sample_weight, class_weight)\u001b[0m\n\u001b[1;32m   1881\u001b[0m             \u001b[0mins\u001b[0m \u001b[0;34m=\u001b[0m \u001b[0mx\u001b[0m \u001b[0;34m+\u001b[0m \u001b[0my\u001b[0m \u001b[0;34m+\u001b[0m \u001b[0msample_weights\u001b[0m\u001b[0;34m\u001b[0m\u001b[0m\n\u001b[1;32m   1882\u001b[0m         \u001b[0mself\u001b[0m\u001b[0;34m.\u001b[0m\u001b[0m_make_train_function\u001b[0m\u001b[0;34m(\u001b[0m\u001b[0;34m)\u001b[0m\u001b[0;34m\u001b[0m\u001b[0m\n\u001b[0;32m-> 1883\u001b[0;31m         \u001b[0moutputs\u001b[0m \u001b[0;34m=\u001b[0m \u001b[0mself\u001b[0m\u001b[0;34m.\u001b[0m\u001b[0mtrain_function\u001b[0m\u001b[0;34m(\u001b[0m\u001b[0mins\u001b[0m\u001b[0;34m)\u001b[0m\u001b[0;34m\u001b[0m\u001b[0m\n\u001b[0m\u001b[1;32m   1884\u001b[0m         \u001b[0;32mif\u001b[0m \u001b[0mlen\u001b[0m\u001b[0;34m(\u001b[0m\u001b[0moutputs\u001b[0m\u001b[0;34m)\u001b[0m \u001b[0;34m==\u001b[0m \u001b[0;36m1\u001b[0m\u001b[0;34m:\u001b[0m\u001b[0;34m\u001b[0m\u001b[0m\n\u001b[1;32m   1885\u001b[0m             \u001b[0;32mreturn\u001b[0m \u001b[0moutputs\u001b[0m\u001b[0;34m[\u001b[0m\u001b[0;36m0\u001b[0m\u001b[0;34m]\u001b[0m\u001b[0;34m\u001b[0m\u001b[0m\n",
      "\u001b[0;32m/home/bigdata/anaconda3/envs/py2/lib/python2.7/site-packages/keras/backend/tensorflow_backend.pyc\u001b[0m in \u001b[0;36m__call__\u001b[0;34m(self, inputs)\u001b[0m\n\u001b[1;32m   2476\u001b[0m         \u001b[0msession\u001b[0m \u001b[0;34m=\u001b[0m \u001b[0mget_session\u001b[0m\u001b[0;34m(\u001b[0m\u001b[0;34m)\u001b[0m\u001b[0;34m\u001b[0m\u001b[0m\n\u001b[1;32m   2477\u001b[0m         updated = session.run(fetches=fetches, feed_dict=feed_dict,\n\u001b[0;32m-> 2478\u001b[0;31m                               **self.session_kwargs)\n\u001b[0m\u001b[1;32m   2479\u001b[0m         \u001b[0;32mreturn\u001b[0m \u001b[0mupdated\u001b[0m\u001b[0;34m[\u001b[0m\u001b[0;34m:\u001b[0m\u001b[0mlen\u001b[0m\u001b[0;34m(\u001b[0m\u001b[0mself\u001b[0m\u001b[0;34m.\u001b[0m\u001b[0moutputs\u001b[0m\u001b[0;34m)\u001b[0m\u001b[0;34m]\u001b[0m\u001b[0;34m\u001b[0m\u001b[0m\n\u001b[1;32m   2480\u001b[0m \u001b[0;34m\u001b[0m\u001b[0m\n",
      "\u001b[0;32m/home/bigdata/anaconda3/envs/py2/lib/python2.7/site-packages/tensorflow/python/client/session.pyc\u001b[0m in \u001b[0;36mrun\u001b[0;34m(self, fetches, feed_dict, options, run_metadata)\u001b[0m\n\u001b[1;32m    893\u001b[0m     \u001b[0;32mtry\u001b[0m\u001b[0;34m:\u001b[0m\u001b[0;34m\u001b[0m\u001b[0m\n\u001b[1;32m    894\u001b[0m       result = self._run(None, fetches, feed_dict, options_ptr,\n\u001b[0;32m--> 895\u001b[0;31m                          run_metadata_ptr)\n\u001b[0m\u001b[1;32m    896\u001b[0m       \u001b[0;32mif\u001b[0m \u001b[0mrun_metadata\u001b[0m\u001b[0;34m:\u001b[0m\u001b[0;34m\u001b[0m\u001b[0m\n\u001b[1;32m    897\u001b[0m         \u001b[0mproto_data\u001b[0m \u001b[0;34m=\u001b[0m \u001b[0mtf_session\u001b[0m\u001b[0;34m.\u001b[0m\u001b[0mTF_GetBuffer\u001b[0m\u001b[0;34m(\u001b[0m\u001b[0mrun_metadata_ptr\u001b[0m\u001b[0;34m)\u001b[0m\u001b[0;34m\u001b[0m\u001b[0m\n",
      "\u001b[0;32m/home/bigdata/anaconda3/envs/py2/lib/python2.7/site-packages/tensorflow/python/client/session.pyc\u001b[0m in \u001b[0;36m_run\u001b[0;34m(self, handle, fetches, feed_dict, options, run_metadata)\u001b[0m\n\u001b[1;32m   1126\u001b[0m     \u001b[0;32mif\u001b[0m \u001b[0mfinal_fetches\u001b[0m \u001b[0;32mor\u001b[0m \u001b[0mfinal_targets\u001b[0m \u001b[0;32mor\u001b[0m \u001b[0;34m(\u001b[0m\u001b[0mhandle\u001b[0m \u001b[0;32mand\u001b[0m \u001b[0mfeed_dict_tensor\u001b[0m\u001b[0;34m)\u001b[0m\u001b[0;34m:\u001b[0m\u001b[0;34m\u001b[0m\u001b[0m\n\u001b[1;32m   1127\u001b[0m       results = self._do_run(handle, final_targets, final_fetches,\n\u001b[0;32m-> 1128\u001b[0;31m                              feed_dict_tensor, options, run_metadata)\n\u001b[0m\u001b[1;32m   1129\u001b[0m     \u001b[0;32melse\u001b[0m\u001b[0;34m:\u001b[0m\u001b[0;34m\u001b[0m\u001b[0m\n\u001b[1;32m   1130\u001b[0m       \u001b[0mresults\u001b[0m \u001b[0;34m=\u001b[0m \u001b[0;34m[\u001b[0m\u001b[0;34m]\u001b[0m\u001b[0;34m\u001b[0m\u001b[0m\n",
      "\u001b[0;32m/home/bigdata/anaconda3/envs/py2/lib/python2.7/site-packages/tensorflow/python/client/session.pyc\u001b[0m in \u001b[0;36m_do_run\u001b[0;34m(self, handle, target_list, fetch_list, feed_dict, options, run_metadata)\u001b[0m\n\u001b[1;32m   1342\u001b[0m     \u001b[0;32mif\u001b[0m \u001b[0mhandle\u001b[0m \u001b[0;32mis\u001b[0m \u001b[0mNone\u001b[0m\u001b[0;34m:\u001b[0m\u001b[0;34m\u001b[0m\u001b[0m\n\u001b[1;32m   1343\u001b[0m       return self._do_call(_run_fn, self._session, feeds, fetches, targets,\n\u001b[0;32m-> 1344\u001b[0;31m                            options, run_metadata)\n\u001b[0m\u001b[1;32m   1345\u001b[0m     \u001b[0;32melse\u001b[0m\u001b[0;34m:\u001b[0m\u001b[0;34m\u001b[0m\u001b[0m\n\u001b[1;32m   1346\u001b[0m       \u001b[0;32mreturn\u001b[0m \u001b[0mself\u001b[0m\u001b[0;34m.\u001b[0m\u001b[0m_do_call\u001b[0m\u001b[0;34m(\u001b[0m\u001b[0m_prun_fn\u001b[0m\u001b[0;34m,\u001b[0m \u001b[0mself\u001b[0m\u001b[0;34m.\u001b[0m\u001b[0m_session\u001b[0m\u001b[0;34m,\u001b[0m \u001b[0mhandle\u001b[0m\u001b[0;34m,\u001b[0m \u001b[0mfeeds\u001b[0m\u001b[0;34m,\u001b[0m \u001b[0mfetches\u001b[0m\u001b[0;34m)\u001b[0m\u001b[0;34m\u001b[0m\u001b[0m\n",
      "\u001b[0;32m/home/bigdata/anaconda3/envs/py2/lib/python2.7/site-packages/tensorflow/python/client/session.pyc\u001b[0m in \u001b[0;36m_do_call\u001b[0;34m(self, fn, *args)\u001b[0m\n\u001b[1;32m   1348\u001b[0m   \u001b[0;32mdef\u001b[0m \u001b[0m_do_call\u001b[0m\u001b[0;34m(\u001b[0m\u001b[0mself\u001b[0m\u001b[0;34m,\u001b[0m \u001b[0mfn\u001b[0m\u001b[0;34m,\u001b[0m \u001b[0;34m*\u001b[0m\u001b[0margs\u001b[0m\u001b[0;34m)\u001b[0m\u001b[0;34m:\u001b[0m\u001b[0;34m\u001b[0m\u001b[0m\n\u001b[1;32m   1349\u001b[0m     \u001b[0;32mtry\u001b[0m\u001b[0;34m:\u001b[0m\u001b[0;34m\u001b[0m\u001b[0m\n\u001b[0;32m-> 1350\u001b[0;31m       \u001b[0;32mreturn\u001b[0m \u001b[0mfn\u001b[0m\u001b[0;34m(\u001b[0m\u001b[0;34m*\u001b[0m\u001b[0margs\u001b[0m\u001b[0;34m)\u001b[0m\u001b[0;34m\u001b[0m\u001b[0m\n\u001b[0m\u001b[1;32m   1351\u001b[0m     \u001b[0;32mexcept\u001b[0m \u001b[0merrors\u001b[0m\u001b[0;34m.\u001b[0m\u001b[0mOpError\u001b[0m \u001b[0;32mas\u001b[0m \u001b[0me\u001b[0m\u001b[0;34m:\u001b[0m\u001b[0;34m\u001b[0m\u001b[0m\n\u001b[1;32m   1352\u001b[0m       \u001b[0mmessage\u001b[0m \u001b[0;34m=\u001b[0m \u001b[0mcompat\u001b[0m\u001b[0;34m.\u001b[0m\u001b[0mas_text\u001b[0m\u001b[0;34m(\u001b[0m\u001b[0me\u001b[0m\u001b[0;34m.\u001b[0m\u001b[0mmessage\u001b[0m\u001b[0;34m)\u001b[0m\u001b[0;34m\u001b[0m\u001b[0m\n",
      "\u001b[0;32m/home/bigdata/anaconda3/envs/py2/lib/python2.7/site-packages/tensorflow/python/client/session.pyc\u001b[0m in \u001b[0;36m_run_fn\u001b[0;34m(session, feed_dict, fetch_list, target_list, options, run_metadata)\u001b[0m\n\u001b[1;32m   1327\u001b[0m           return tf_session.TF_Run(session, options,\n\u001b[1;32m   1328\u001b[0m                                    \u001b[0mfeed_dict\u001b[0m\u001b[0;34m,\u001b[0m \u001b[0mfetch_list\u001b[0m\u001b[0;34m,\u001b[0m \u001b[0mtarget_list\u001b[0m\u001b[0;34m,\u001b[0m\u001b[0;34m\u001b[0m\u001b[0m\n\u001b[0;32m-> 1329\u001b[0;31m                                    status, run_metadata)\n\u001b[0m\u001b[1;32m   1330\u001b[0m \u001b[0;34m\u001b[0m\u001b[0m\n\u001b[1;32m   1331\u001b[0m     \u001b[0;32mdef\u001b[0m \u001b[0m_prun_fn\u001b[0m\u001b[0;34m(\u001b[0m\u001b[0msession\u001b[0m\u001b[0;34m,\u001b[0m \u001b[0mhandle\u001b[0m\u001b[0;34m,\u001b[0m \u001b[0mfeed_dict\u001b[0m\u001b[0;34m,\u001b[0m \u001b[0mfetch_list\u001b[0m\u001b[0;34m)\u001b[0m\u001b[0;34m:\u001b[0m\u001b[0;34m\u001b[0m\u001b[0m\n",
      "\u001b[0;31mKeyboardInterrupt\u001b[0m: "
     ]
    }
   ],
   "source": [
    "model = get_textcnn(config['word_maxlen']*2,\n",
    "                        embed_weights, pretrain=False)\n",
    "\n",
    "for i in range(15):\n",
    "    if i == 8:\n",
    "        K.set_value(model.optimizer.lr, 0.0001)\n",
    "\n",
    "    model.fit_generator(\n",
    "        train_batch_generator(x_train, y_train, config['batch_size']),\n",
    "        epochs=1,\n",
    "        steps_per_epoch=int(x_train.shape[0] / config['batch_size']),\n",
    "        validation_data=(x_dev, y_dev),\n",
    "    \n",
    "    )\n",
    "\n",
    "    pred = model.predict(x_dev, batch_size=config['batch_size'])\n",
    "    pre, rec, f1 = score(y_dev, pred)\n",
    "\n",
    "    print('p r f1 ', pre, rec, f1)\n"
   ]
  },
  {
   "cell_type": "code",
   "execution_count": null,
   "metadata": {
    "collapsed": true
   },
   "outputs": [],
   "source": []
  },
  {
   "cell_type": "code",
   "execution_count": null,
   "metadata": {
    "collapsed": true
   },
   "outputs": [],
   "source": []
  },
  {
   "cell_type": "code",
   "execution_count": 60,
   "metadata": {
    "collapsed": false
   },
   "outputs": [],
   "source": [
    "def get_textrnn(seq_length, embed_weight, pretrain=False):\n",
    "    main_input = Input(shape=(seq_length,), dtype='float64')\n",
    "    if pretrain:\n",
    "        embedding = Embedding(name='word_embedding', input_dim=config[\n",
    "            'vocab_size'], weights=[embed_weight], output_dim=config['w2v_vec_dim'], trainable=False)\n",
    "    else:\n",
    "        embedding = Embedding(name='word_embedding', input_dim=config[\n",
    "            'vocab_size'], output_dim=config['w2v_vec_dim'], trainable=True)\n",
    "    out = embedding(main_input)\n",
    "    out = Activation(activation=\"relu\")(\n",
    "        BatchNormalization()((TimeDistributed(Dense(256))(out))))\n",
    "    print('Build model...')\n",
    "    out = Bidirectional(GRU(256))(out)\n",
    "    #out= BatchNormalization(out)\n",
    "    out = Dropout(0.3)(out)\n",
    "    fc = Activation(activation=\"relu\")(\n",
    "        BatchNormalization()(Dense(256)(out)))\n",
    "    main_output = Dense(config['number_classes'],\n",
    "                        activation='softmax')(fc)\n",
    "\n",
    "    model = Model(inputs=main_input, outputs=main_output)\n",
    "    model.compile(optimizer='adam',\n",
    "                  loss='categorical_crossentropy',\n",
    "                  metrics=['accuracy'])\n",
    "    return model"
   ]
  },
  {
   "cell_type": "code",
   "execution_count": null,
   "metadata": {
    "collapsed": false
   },
   "outputs": [
    {
     "name": "stdout",
     "output_type": "stream",
     "text": [
      "Build model...\n",
      "Epoch 1/1\n",
      "276/276 [==============================] - 682s 2s/step - loss: 0.5495 - acc: 0.7704 - val_loss: 0.5360 - val_acc: 0.7629\n",
      "('p r f1 ', 0.34909090909090912, 0.11294117647058824, 0.17066666666666669)\n",
      "Epoch 1/1\n",
      "276/276 [==============================] - 671s 2s/step - loss: 0.4976 - acc: 0.7841 - val_loss: 0.5197 - val_acc: 0.7776\n",
      "('p r f1 ', 0.44680851063829785, 0.12352941176470589, 0.19354838709677422)\n",
      "Epoch 1/1\n",
      "276/276 [==============================] - 673s 2s/step - loss: 0.4629 - acc: 0.7953 - val_loss: 0.5173 - val_acc: 0.7751\n",
      "('p r f1 ', 0.44444444444444442, 0.16470588235294117, 0.24034334763948498)\n",
      "Epoch 1/1\n",
      "276/276 [==============================] - 653s 2s/step - loss: 0.4329 - acc: 0.8070 - val_loss: 0.5357 - val_acc: 0.7677\n",
      "('p r f1 ', 0.41160220994475138, 0.17529411764705882, 0.24587458745874588)\n",
      "Epoch 1/1\n",
      "276/276 [==============================] - 663s 2s/step - loss: 0.4004 - acc: 0.8234 - val_loss: 0.6243 - val_acc: 0.6574\n",
      "('p r f1 ', 0.28534482758620688, 0.38941176470588235, 0.32935323383084575)\n",
      "Epoch 1/1\n",
      "276/276 [==============================] - 1123s 4s/step - loss: 0.3674 - acc: 0.8361 - val_loss: 0.6200 - val_acc: 0.6864\n",
      "('p r f1 ', 0.29704016913319237, 0.33058823529411763, 0.31291759465478841)\n",
      "Epoch 1/1\n",
      "276/276 [==============================] - 1477s 5s/step - loss: 0.3410 - acc: 0.8485 - val_loss: 0.8609 - val_acc: 0.5372\n",
      "('p r f1 ', 0.25977238990598711, 0.61764705882352944, 0.36572622779519326)\n",
      "Epoch 1/1\n",
      "276/276 [==============================] - 1146s 4s/step - loss: 0.3017 - acc: 0.8668 - val_loss: 0.7011 - val_acc: 0.7266\n",
      "('p r f1 ', 0.33717579250720459, 0.2752941176470588, 0.30310880829015541)\n",
      "Epoch 1/1\n",
      " 78/276 [=======>......................] - ETA: 9:06 - loss: 0.3315 - acc: 0.8501"
     ]
    }
   ],
   "source": [
    "\n",
    "model = get_textrnn(config['word_maxlen']*2, embed_weights, pretrain=False)\n",
    "\n",
    "for i in range(15):\n",
    "    if i == 8:\n",
    "        K.set_value(model.optimizer.lr, 0.0001)\n",
    "\n",
    "    model.fit_generator(\n",
    "        train_batch_generator(x_train, y_train, config['batch_size']),\n",
    "        epochs=1,\n",
    "        steps_per_epoch=int(x_train.shape[0] / config['batch_size']),\n",
    "        validation_data=(x_dev, y_dev),\n",
    "    \n",
    "    )\n",
    "\n",
    "    pred = model.predict(x_dev, batch_size=config['batch_size'])\n",
    "    pre, rec, f1 = score(y_dev, pred)\n",
    "\n",
    "    print('p r f1 ', pre, rec, f1)\n"
   ]
  },
  {
   "cell_type": "code",
   "execution_count": null,
   "metadata": {
    "collapsed": true
   },
   "outputs": [],
   "source": []
  },
  {
   "cell_type": "code",
   "execution_count": null,
   "metadata": {
    "collapsed": true
   },
   "outputs": [],
   "source": []
  },
  {
   "cell_type": "code",
   "execution_count": null,
   "metadata": {
    "collapsed": true
   },
   "outputs": [],
   "source": []
  },
  {
   "cell_type": "code",
   "execution_count": null,
   "metadata": {
    "collapsed": true
   },
   "outputs": [],
   "source": []
  },
  {
   "cell_type": "code",
   "execution_count": null,
   "metadata": {
    "collapsed": true
   },
   "outputs": [],
   "source": []
  }
 ],
 "metadata": {
  "anaconda-cloud": {},
  "kernelspec": {
   "display_name": "Python [conda env:anaconda3]",
   "language": "python",
   "name": "conda-env-anaconda3-py"
  },
  "language_info": {
   "codemirror_mode": {
    "name": "ipython",
    "version": 3
   },
   "file_extension": ".py",
   "mimetype": "text/x-python",
   "name": "python",
   "nbconvert_exporter": "python",
   "pygments_lexer": "ipython3",
   "version": "3.5.2"
  }
 },
 "nbformat": 4,
 "nbformat_minor": 1
}
